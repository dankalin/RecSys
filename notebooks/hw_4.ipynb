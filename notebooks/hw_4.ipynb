{
  "nbformat": 4,
  "nbformat_minor": 0,
  "metadata": {
    "colab": {
      "provenance": []
    },
    "kernelspec": {
      "name": "python3",
      "display_name": "Python 3"
    },
    "language_info": {
      "name": "python"
    }
  },
  "cells": [
    {
      "cell_type": "code",
      "execution_count": 2,
      "metadata": {
        "id": "rMsJqxRx3OSb"
      },
      "outputs": [],
      "source": [
        "import os\n",
        "import warnings\n",
        "warnings.filterwarnings('ignore')"
      ]
    },
    {
      "cell_type": "code",
      "source": [
        "%pip install implicit\n",
        "%pip install rectools\n",
        "%pip install lightfm\n",
        "%pip install optuna"
      ],
      "metadata": {
        "colab": {
          "base_uri": "https://localhost:8080/"
        },
        "id": "PtZxNUz2dQ_O",
        "outputId": "cb8af050-5e09-43ac-bcf3-00e37347a7c0"
      },
      "execution_count": 2,
      "outputs": [
        {
          "output_type": "stream",
          "name": "stdout",
          "text": [
            "Requirement already satisfied: implicit in /usr/local/lib/python3.10/dist-packages (0.7.2)\n",
            "Requirement already satisfied: numpy>=1.17.0 in /usr/local/lib/python3.10/dist-packages (from implicit) (1.23.5)\n",
            "Requirement already satisfied: scipy>=0.16 in /usr/local/lib/python3.10/dist-packages (from implicit) (1.11.4)\n",
            "Requirement already satisfied: tqdm>=4.27 in /usr/local/lib/python3.10/dist-packages (from implicit) (4.66.1)\n",
            "Requirement already satisfied: threadpoolctl in /usr/local/lib/python3.10/dist-packages (from implicit) (3.2.0)\n",
            "Requirement already satisfied: rectools in /usr/local/lib/python3.10/dist-packages (0.4.2)\n",
            "Requirement already satisfied: attrs<24.0.0,>=19.1.0 in /usr/local/lib/python3.10/dist-packages (from rectools) (23.1.0)\n",
            "Requirement already satisfied: implicit<0.8.0,>=0.7.1 in /usr/local/lib/python3.10/dist-packages (from rectools) (0.7.2)\n",
            "Requirement already satisfied: numpy<2.0.0,>=1.19.5 in /usr/local/lib/python3.10/dist-packages (from rectools) (1.23.5)\n",
            "Requirement already satisfied: pandas<2.0.0,>=0.25.3 in /usr/local/lib/python3.10/dist-packages (from rectools) (1.5.3)\n",
            "Requirement already satisfied: scipy<2.0.0,>=1.5.4 in /usr/local/lib/python3.10/dist-packages (from rectools) (1.11.4)\n",
            "Requirement already satisfied: tqdm<5.0.0,>=4.27.0 in /usr/local/lib/python3.10/dist-packages (from rectools) (4.66.1)\n",
            "Requirement already satisfied: typeguard<3.0.0,>=2.0.1 in /usr/local/lib/python3.10/dist-packages (from rectools) (2.13.3)\n",
            "Requirement already satisfied: threadpoolctl in /usr/local/lib/python3.10/dist-packages (from implicit<0.8.0,>=0.7.1->rectools) (3.2.0)\n",
            "Requirement already satisfied: python-dateutil>=2.8.1 in /usr/local/lib/python3.10/dist-packages (from pandas<2.0.0,>=0.25.3->rectools) (2.8.2)\n",
            "Requirement already satisfied: pytz>=2020.1 in /usr/local/lib/python3.10/dist-packages (from pandas<2.0.0,>=0.25.3->rectools) (2023.3.post1)\n",
            "Requirement already satisfied: six>=1.5 in /usr/local/lib/python3.10/dist-packages (from python-dateutil>=2.8.1->pandas<2.0.0,>=0.25.3->rectools) (1.16.0)\n",
            "Requirement already satisfied: lightfm in /usr/local/lib/python3.10/dist-packages (1.17)\n",
            "Requirement already satisfied: numpy in /usr/local/lib/python3.10/dist-packages (from lightfm) (1.23.5)\n",
            "Requirement already satisfied: scipy>=0.17.0 in /usr/local/lib/python3.10/dist-packages (from lightfm) (1.11.4)\n",
            "Requirement already satisfied: requests in /usr/local/lib/python3.10/dist-packages (from lightfm) (2.31.0)\n",
            "Requirement already satisfied: scikit-learn in /usr/local/lib/python3.10/dist-packages (from lightfm) (1.2.2)\n",
            "Requirement already satisfied: charset-normalizer<4,>=2 in /usr/local/lib/python3.10/dist-packages (from requests->lightfm) (3.3.2)\n",
            "Requirement already satisfied: idna<4,>=2.5 in /usr/local/lib/python3.10/dist-packages (from requests->lightfm) (3.6)\n",
            "Requirement already satisfied: urllib3<3,>=1.21.1 in /usr/local/lib/python3.10/dist-packages (from requests->lightfm) (2.0.7)\n",
            "Requirement already satisfied: certifi>=2017.4.17 in /usr/local/lib/python3.10/dist-packages (from requests->lightfm) (2023.11.17)\n",
            "Requirement already satisfied: joblib>=1.1.1 in /usr/local/lib/python3.10/dist-packages (from scikit-learn->lightfm) (1.3.2)\n",
            "Requirement already satisfied: threadpoolctl>=2.0.0 in /usr/local/lib/python3.10/dist-packages (from scikit-learn->lightfm) (3.2.0)\n",
            "Requirement already satisfied: optuna in /usr/local/lib/python3.10/dist-packages (3.4.0)\n",
            "Requirement already satisfied: alembic>=1.5.0 in /usr/local/lib/python3.10/dist-packages (from optuna) (1.13.0)\n",
            "Requirement already satisfied: colorlog in /usr/local/lib/python3.10/dist-packages (from optuna) (6.8.0)\n",
            "Requirement already satisfied: numpy in /usr/local/lib/python3.10/dist-packages (from optuna) (1.23.5)\n",
            "Requirement already satisfied: packaging>=20.0 in /usr/local/lib/python3.10/dist-packages (from optuna) (23.2)\n",
            "Requirement already satisfied: sqlalchemy>=1.3.0 in /usr/local/lib/python3.10/dist-packages (from optuna) (2.0.23)\n",
            "Requirement already satisfied: tqdm in /usr/local/lib/python3.10/dist-packages (from optuna) (4.66.1)\n",
            "Requirement already satisfied: PyYAML in /usr/local/lib/python3.10/dist-packages (from optuna) (6.0.1)\n",
            "Requirement already satisfied: Mako in /usr/local/lib/python3.10/dist-packages (from alembic>=1.5.0->optuna) (1.3.0)\n",
            "Requirement already satisfied: typing-extensions>=4 in /usr/local/lib/python3.10/dist-packages (from alembic>=1.5.0->optuna) (4.5.0)\n",
            "Requirement already satisfied: greenlet!=0.4.17 in /usr/local/lib/python3.10/dist-packages (from sqlalchemy>=1.3.0->optuna) (3.0.1)\n",
            "Requirement already satisfied: MarkupSafe>=0.9.2 in /usr/local/lib/python3.10/dist-packages (from Mako->alembic>=1.5.0->optuna) (2.1.3)\n"
          ]
        }
      ]
    },
    {
      "cell_type": "code",
      "source": [
        "import pandas as pd\n",
        "import numpy as np\n",
        "\n",
        "from implicit.als import AlternatingLeastSquares\n",
        "\n",
        "from rectools.metrics import Precision, Recall, MAP, calc_metrics\n",
        "from rectools.models import PopularModel, RandomModel, ImplicitALSWrapperModel\n",
        "from rectools import Columns\n",
        "from rectools.dataset import Dataset,Interactions\n",
        "from rectools.models import ImplicitALSWrapperModel, LightFMWrapperModel\n",
        "\n",
        "import matplotlib.pyplot as plt\n",
        "import seaborn as sns\n",
        "\n",
        "import matplotlib.pyplot as plt\n",
        "from pathlib import Path\n",
        "import typing as tp\n",
        "from tqdm import tqdm\n",
        "import pandas as pd\n",
        "from lightfm import LightFM\n",
        "\n",
        "from implicit.bpr import BayesianPersonalizedRanking\n",
        "\n",
        "from implicit.lmf import LogisticMatrixFactorization"
      ],
      "metadata": {
        "id": "3HvwP1Iw3w5D"
      },
      "execution_count": 3,
      "outputs": []
    },
    {
      "cell_type": "code",
      "source": [
        "%%capture\n",
        "!wget https://github.com/irsafilo/KION_DATASET/raw/f69775be31fa5779907cf0a92ddedb70037fb5ae/data_original.zip\n",
        "!unzip -o data_original.zip"
      ],
      "metadata": {
        "id": "52-oDQlN34cn"
      },
      "execution_count": 5,
      "outputs": []
    },
    {
      "cell_type": "code",
      "source": [
        "interactions = pd.read_csv('data_original/interactions.csv')\n",
        "users = pd.read_csv('data_original/users.csv')\n",
        "items = pd.read_csv('data_original/items.csv')"
      ],
      "metadata": {
        "id": "hABzJ6AX4OvD"
      },
      "execution_count": 4,
      "outputs": []
    },
    {
      "cell_type": "code",
      "source": [
        "interactions.rename(\n",
        "        columns={\n",
        "                'last_watch_dt': 'datetime',\n",
        "                'total_dur': 'weight'\n",
        "        },\n",
        "        inplace=True)"
      ],
      "metadata": {
        "id": "2-Cnyrq4NL00"
      },
      "execution_count": 5,
      "outputs": []
    },
    {
      "cell_type": "code",
      "source": [
        "interactions['datetime'] = pd.to_datetime(interactions['datetime'])\n",
        "max_date = interactions['datetime'].max()\n",
        "train = interactions[(interactions['datetime'] < max_date - pd.Timedelta(days=7))]\n",
        "test = interactions[(interactions['datetime'] >= max_date - pd.Timedelta(days=7))]\n",
        "train.drop(train.query(\"weight < 300\").index, inplace=True)\n",
        "print(f\"train: {train.shape}\")\n",
        "print(f\"test: {test.shape}\")"
      ],
      "metadata": {
        "colab": {
          "base_uri": "https://localhost:8080/"
        },
        "id": "yBcSu97jAnba",
        "outputId": "a836d660-fafa-42db-bd1d-6b744c86c49f"
      },
      "execution_count": 6,
      "outputs": [
        {
          "output_type": "stream",
          "name": "stdout",
          "text": [
            "train: (3832711, 5)\n",
            "test: (490982, 5)\n"
          ]
        }
      ]
    },
    {
      "cell_type": "code",
      "source": [
        "cold_users = set(test['user_id']) - set(train['user_id'])\n",
        "test.drop(test[test['user_id'].isin(cold_users)].index, inplace=True)"
      ],
      "metadata": {
        "id": "ZHg1GqdvPKeO"
      },
      "execution_count": 7,
      "outputs": []
    },
    {
      "cell_type": "code",
      "source": [
        "dataset = Dataset.construct(\n",
        "    interactions_df=train\n",
        ")"
      ],
      "metadata": {
        "id": "03dUXO0HOAmU"
      },
      "execution_count": 8,
      "outputs": []
    },
    {
      "cell_type": "code",
      "source": [
        "metrics_name = {\n",
        "    'Precision': Precision,\n",
        "    'Recall': Recall,\n",
        "    'MAP': MAP,\n",
        "}\n",
        "\n",
        "metrics = {}\n",
        "for metric_name, metric in metrics_name.items():\n",
        "    for k in range(1, 11):\n",
        "        metrics[f'{metric_name}@{k}'] = metric(k=k)"
      ],
      "metadata": {
        "id": "UZLRr4oSQWCX"
      },
      "execution_count": 9,
      "outputs": []
    },
    {
      "cell_type": "code",
      "source": [
        "K_RECOS = 10\n",
        "RANDOM_STATE = 42\n",
        "NUM_THREADS = 64\n",
        "N_FACTORS = 4"
      ],
      "metadata": {
        "id": "rWv6HLdfSwuK"
      },
      "execution_count": 10,
      "outputs": []
    },
    {
      "cell_type": "code",
      "source": [
        "train"
      ],
      "metadata": {
        "colab": {
          "base_uri": "https://localhost:8080/",
          "height": 424
        },
        "id": "gyBUKN493lk6",
        "outputId": "8c61b2cb-b90b-45a1-d97b-a5de9cc050b8"
      },
      "execution_count": 11,
      "outputs": [
        {
          "output_type": "execute_result",
          "data": {
            "text/plain": [
              "         user_id  item_id   datetime  weight  watched_pct\n",
              "0         176549     9506 2021-05-11    4250         72.0\n",
              "1         699317     1659 2021-05-29    8317        100.0\n",
              "3         864613     7638 2021-07-05   14483        100.0\n",
              "4         964868     9506 2021-04-30    6725        100.0\n",
              "5        1032142     6686 2021-05-13   11286        100.0\n",
              "...          ...      ...        ...     ...          ...\n",
              "5476242   268216     3071 2021-04-21    5752         98.0\n",
              "5476244   438585     7829 2021-08-02    6804        100.0\n",
              "5476245   786732     4880 2021-05-12     753          0.0\n",
              "5476247   546862     9673 2021-04-13    2308         49.0\n",
              "5476249   384202    16197 2021-04-19    6203        100.0\n",
              "\n",
              "[3832711 rows x 5 columns]"
            ],
            "text/html": [
              "\n",
              "  <div id=\"df-ec6624f1-93a3-4d3d-9cee-13a5d02c5c72\" class=\"colab-df-container\">\n",
              "    <div>\n",
              "<style scoped>\n",
              "    .dataframe tbody tr th:only-of-type {\n",
              "        vertical-align: middle;\n",
              "    }\n",
              "\n",
              "    .dataframe tbody tr th {\n",
              "        vertical-align: top;\n",
              "    }\n",
              "\n",
              "    .dataframe thead th {\n",
              "        text-align: right;\n",
              "    }\n",
              "</style>\n",
              "<table border=\"1\" class=\"dataframe\">\n",
              "  <thead>\n",
              "    <tr style=\"text-align: right;\">\n",
              "      <th></th>\n",
              "      <th>user_id</th>\n",
              "      <th>item_id</th>\n",
              "      <th>datetime</th>\n",
              "      <th>weight</th>\n",
              "      <th>watched_pct</th>\n",
              "    </tr>\n",
              "  </thead>\n",
              "  <tbody>\n",
              "    <tr>\n",
              "      <th>0</th>\n",
              "      <td>176549</td>\n",
              "      <td>9506</td>\n",
              "      <td>2021-05-11</td>\n",
              "      <td>4250</td>\n",
              "      <td>72.0</td>\n",
              "    </tr>\n",
              "    <tr>\n",
              "      <th>1</th>\n",
              "      <td>699317</td>\n",
              "      <td>1659</td>\n",
              "      <td>2021-05-29</td>\n",
              "      <td>8317</td>\n",
              "      <td>100.0</td>\n",
              "    </tr>\n",
              "    <tr>\n",
              "      <th>3</th>\n",
              "      <td>864613</td>\n",
              "      <td>7638</td>\n",
              "      <td>2021-07-05</td>\n",
              "      <td>14483</td>\n",
              "      <td>100.0</td>\n",
              "    </tr>\n",
              "    <tr>\n",
              "      <th>4</th>\n",
              "      <td>964868</td>\n",
              "      <td>9506</td>\n",
              "      <td>2021-04-30</td>\n",
              "      <td>6725</td>\n",
              "      <td>100.0</td>\n",
              "    </tr>\n",
              "    <tr>\n",
              "      <th>5</th>\n",
              "      <td>1032142</td>\n",
              "      <td>6686</td>\n",
              "      <td>2021-05-13</td>\n",
              "      <td>11286</td>\n",
              "      <td>100.0</td>\n",
              "    </tr>\n",
              "    <tr>\n",
              "      <th>...</th>\n",
              "      <td>...</td>\n",
              "      <td>...</td>\n",
              "      <td>...</td>\n",
              "      <td>...</td>\n",
              "      <td>...</td>\n",
              "    </tr>\n",
              "    <tr>\n",
              "      <th>5476242</th>\n",
              "      <td>268216</td>\n",
              "      <td>3071</td>\n",
              "      <td>2021-04-21</td>\n",
              "      <td>5752</td>\n",
              "      <td>98.0</td>\n",
              "    </tr>\n",
              "    <tr>\n",
              "      <th>5476244</th>\n",
              "      <td>438585</td>\n",
              "      <td>7829</td>\n",
              "      <td>2021-08-02</td>\n",
              "      <td>6804</td>\n",
              "      <td>100.0</td>\n",
              "    </tr>\n",
              "    <tr>\n",
              "      <th>5476245</th>\n",
              "      <td>786732</td>\n",
              "      <td>4880</td>\n",
              "      <td>2021-05-12</td>\n",
              "      <td>753</td>\n",
              "      <td>0.0</td>\n",
              "    </tr>\n",
              "    <tr>\n",
              "      <th>5476247</th>\n",
              "      <td>546862</td>\n",
              "      <td>9673</td>\n",
              "      <td>2021-04-13</td>\n",
              "      <td>2308</td>\n",
              "      <td>49.0</td>\n",
              "    </tr>\n",
              "    <tr>\n",
              "      <th>5476249</th>\n",
              "      <td>384202</td>\n",
              "      <td>16197</td>\n",
              "      <td>2021-04-19</td>\n",
              "      <td>6203</td>\n",
              "      <td>100.0</td>\n",
              "    </tr>\n",
              "  </tbody>\n",
              "</table>\n",
              "<p>3832711 rows × 5 columns</p>\n",
              "</div>\n",
              "    <div class=\"colab-df-buttons\">\n",
              "\n",
              "  <div class=\"colab-df-container\">\n",
              "    <button class=\"colab-df-convert\" onclick=\"convertToInteractive('df-ec6624f1-93a3-4d3d-9cee-13a5d02c5c72')\"\n",
              "            title=\"Convert this dataframe to an interactive table.\"\n",
              "            style=\"display:none;\">\n",
              "\n",
              "  <svg xmlns=\"http://www.w3.org/2000/svg\" height=\"24px\" viewBox=\"0 -960 960 960\">\n",
              "    <path d=\"M120-120v-720h720v720H120Zm60-500h600v-160H180v160Zm220 220h160v-160H400v160Zm0 220h160v-160H400v160ZM180-400h160v-160H180v160Zm440 0h160v-160H620v160ZM180-180h160v-160H180v160Zm440 0h160v-160H620v160Z\"/>\n",
              "  </svg>\n",
              "    </button>\n",
              "\n",
              "  <style>\n",
              "    .colab-df-container {\n",
              "      display:flex;\n",
              "      gap: 12px;\n",
              "    }\n",
              "\n",
              "    .colab-df-convert {\n",
              "      background-color: #E8F0FE;\n",
              "      border: none;\n",
              "      border-radius: 50%;\n",
              "      cursor: pointer;\n",
              "      display: none;\n",
              "      fill: #1967D2;\n",
              "      height: 32px;\n",
              "      padding: 0 0 0 0;\n",
              "      width: 32px;\n",
              "    }\n",
              "\n",
              "    .colab-df-convert:hover {\n",
              "      background-color: #E2EBFA;\n",
              "      box-shadow: 0px 1px 2px rgba(60, 64, 67, 0.3), 0px 1px 3px 1px rgba(60, 64, 67, 0.15);\n",
              "      fill: #174EA6;\n",
              "    }\n",
              "\n",
              "    .colab-df-buttons div {\n",
              "      margin-bottom: 4px;\n",
              "    }\n",
              "\n",
              "    [theme=dark] .colab-df-convert {\n",
              "      background-color: #3B4455;\n",
              "      fill: #D2E3FC;\n",
              "    }\n",
              "\n",
              "    [theme=dark] .colab-df-convert:hover {\n",
              "      background-color: #434B5C;\n",
              "      box-shadow: 0px 1px 3px 1px rgba(0, 0, 0, 0.15);\n",
              "      filter: drop-shadow(0px 1px 2px rgba(0, 0, 0, 0.3));\n",
              "      fill: #FFFFFF;\n",
              "    }\n",
              "  </style>\n",
              "\n",
              "    <script>\n",
              "      const buttonEl =\n",
              "        document.querySelector('#df-ec6624f1-93a3-4d3d-9cee-13a5d02c5c72 button.colab-df-convert');\n",
              "      buttonEl.style.display =\n",
              "        google.colab.kernel.accessAllowed ? 'block' : 'none';\n",
              "\n",
              "      async function convertToInteractive(key) {\n",
              "        const element = document.querySelector('#df-ec6624f1-93a3-4d3d-9cee-13a5d02c5c72');\n",
              "        const dataTable =\n",
              "          await google.colab.kernel.invokeFunction('convertToInteractive',\n",
              "                                                    [key], {});\n",
              "        if (!dataTable) return;\n",
              "\n",
              "        const docLinkHtml = 'Like what you see? Visit the ' +\n",
              "          '<a target=\"_blank\" href=https://colab.research.google.com/notebooks/data_table.ipynb>data table notebook</a>'\n",
              "          + ' to learn more about interactive tables.';\n",
              "        element.innerHTML = '';\n",
              "        dataTable['output_type'] = 'display_data';\n",
              "        await google.colab.output.renderOutput(dataTable, element);\n",
              "        const docLink = document.createElement('div');\n",
              "        docLink.innerHTML = docLinkHtml;\n",
              "        element.appendChild(docLink);\n",
              "      }\n",
              "    </script>\n",
              "  </div>\n",
              "\n",
              "\n",
              "<div id=\"df-36b10628-c3bd-4e07-a093-01a44e41498f\">\n",
              "  <button class=\"colab-df-quickchart\" onclick=\"quickchart('df-36b10628-c3bd-4e07-a093-01a44e41498f')\"\n",
              "            title=\"Suggest charts\"\n",
              "            style=\"display:none;\">\n",
              "\n",
              "<svg xmlns=\"http://www.w3.org/2000/svg\" height=\"24px\"viewBox=\"0 0 24 24\"\n",
              "     width=\"24px\">\n",
              "    <g>\n",
              "        <path d=\"M19 3H5c-1.1 0-2 .9-2 2v14c0 1.1.9 2 2 2h14c1.1 0 2-.9 2-2V5c0-1.1-.9-2-2-2zM9 17H7v-7h2v7zm4 0h-2V7h2v10zm4 0h-2v-4h2v4z\"/>\n",
              "    </g>\n",
              "</svg>\n",
              "  </button>\n",
              "\n",
              "<style>\n",
              "  .colab-df-quickchart {\n",
              "      --bg-color: #E8F0FE;\n",
              "      --fill-color: #1967D2;\n",
              "      --hover-bg-color: #E2EBFA;\n",
              "      --hover-fill-color: #174EA6;\n",
              "      --disabled-fill-color: #AAA;\n",
              "      --disabled-bg-color: #DDD;\n",
              "  }\n",
              "\n",
              "  [theme=dark] .colab-df-quickchart {\n",
              "      --bg-color: #3B4455;\n",
              "      --fill-color: #D2E3FC;\n",
              "      --hover-bg-color: #434B5C;\n",
              "      --hover-fill-color: #FFFFFF;\n",
              "      --disabled-bg-color: #3B4455;\n",
              "      --disabled-fill-color: #666;\n",
              "  }\n",
              "\n",
              "  .colab-df-quickchart {\n",
              "    background-color: var(--bg-color);\n",
              "    border: none;\n",
              "    border-radius: 50%;\n",
              "    cursor: pointer;\n",
              "    display: none;\n",
              "    fill: var(--fill-color);\n",
              "    height: 32px;\n",
              "    padding: 0;\n",
              "    width: 32px;\n",
              "  }\n",
              "\n",
              "  .colab-df-quickchart:hover {\n",
              "    background-color: var(--hover-bg-color);\n",
              "    box-shadow: 0 1px 2px rgba(60, 64, 67, 0.3), 0 1px 3px 1px rgba(60, 64, 67, 0.15);\n",
              "    fill: var(--button-hover-fill-color);\n",
              "  }\n",
              "\n",
              "  .colab-df-quickchart-complete:disabled,\n",
              "  .colab-df-quickchart-complete:disabled:hover {\n",
              "    background-color: var(--disabled-bg-color);\n",
              "    fill: var(--disabled-fill-color);\n",
              "    box-shadow: none;\n",
              "  }\n",
              "\n",
              "  .colab-df-spinner {\n",
              "    border: 2px solid var(--fill-color);\n",
              "    border-color: transparent;\n",
              "    border-bottom-color: var(--fill-color);\n",
              "    animation:\n",
              "      spin 1s steps(1) infinite;\n",
              "  }\n",
              "\n",
              "  @keyframes spin {\n",
              "    0% {\n",
              "      border-color: transparent;\n",
              "      border-bottom-color: var(--fill-color);\n",
              "      border-left-color: var(--fill-color);\n",
              "    }\n",
              "    20% {\n",
              "      border-color: transparent;\n",
              "      border-left-color: var(--fill-color);\n",
              "      border-top-color: var(--fill-color);\n",
              "    }\n",
              "    30% {\n",
              "      border-color: transparent;\n",
              "      border-left-color: var(--fill-color);\n",
              "      border-top-color: var(--fill-color);\n",
              "      border-right-color: var(--fill-color);\n",
              "    }\n",
              "    40% {\n",
              "      border-color: transparent;\n",
              "      border-right-color: var(--fill-color);\n",
              "      border-top-color: var(--fill-color);\n",
              "    }\n",
              "    60% {\n",
              "      border-color: transparent;\n",
              "      border-right-color: var(--fill-color);\n",
              "    }\n",
              "    80% {\n",
              "      border-color: transparent;\n",
              "      border-right-color: var(--fill-color);\n",
              "      border-bottom-color: var(--fill-color);\n",
              "    }\n",
              "    90% {\n",
              "      border-color: transparent;\n",
              "      border-bottom-color: var(--fill-color);\n",
              "    }\n",
              "  }\n",
              "</style>\n",
              "\n",
              "  <script>\n",
              "    async function quickchart(key) {\n",
              "      const quickchartButtonEl =\n",
              "        document.querySelector('#' + key + ' button');\n",
              "      quickchartButtonEl.disabled = true;  // To prevent multiple clicks.\n",
              "      quickchartButtonEl.classList.add('colab-df-spinner');\n",
              "      try {\n",
              "        const charts = await google.colab.kernel.invokeFunction(\n",
              "            'suggestCharts', [key], {});\n",
              "      } catch (error) {\n",
              "        console.error('Error during call to suggestCharts:', error);\n",
              "      }\n",
              "      quickchartButtonEl.classList.remove('colab-df-spinner');\n",
              "      quickchartButtonEl.classList.add('colab-df-quickchart-complete');\n",
              "    }\n",
              "    (() => {\n",
              "      let quickchartButtonEl =\n",
              "        document.querySelector('#df-36b10628-c3bd-4e07-a093-01a44e41498f button');\n",
              "      quickchartButtonEl.style.display =\n",
              "        google.colab.kernel.accessAllowed ? 'block' : 'none';\n",
              "    })();\n",
              "  </script>\n",
              "</div>\n",
              "    </div>\n",
              "  </div>\n"
            ]
          },
          "metadata": {},
          "execution_count": 11
        }
      ]
    },
    {
      "cell_type": "markdown",
      "source": [
        "#Baseline"
      ],
      "metadata": {
        "id": "oCnTq0zeX1gn"
      }
    },
    {
      "cell_type": "code",
      "source": [
        "model = LightFMWrapperModel(\n",
        "            LightFM(\n",
        "                no_components=10,\n",
        "                loss='warp',\n",
        "                random_state=RANDOM_STATE,\n",
        "                learning_rate=0.05\n",
        "            ),\n",
        "            epochs=10,\n",
        "            num_threads=NUM_THREADS,\n",
        "        )\n",
        "\n",
        "model.fit(dataset)\n",
        "\n",
        "recs = model.recommend(\n",
        "    users=test['user_id'].unique(),\n",
        "    dataset=dataset,\n",
        "    k=K_RECOS,\n",
        "    filter_viewed=True\n",
        ")\n",
        "\n",
        "\n",
        "calc_metrics(metrics, recs, test, train)"
      ],
      "metadata": {
        "colab": {
          "base_uri": "https://localhost:8080/"
        },
        "id": "qV_pInQdMz5P",
        "outputId": "67ad6281-1acf-425c-82c0-bb97c91fb731"
      },
      "execution_count": 12,
      "outputs": [
        {
          "output_type": "execute_result",
          "data": {
            "text/plain": [
              "{'Precision@1': 0.083158518990591,\n",
              " 'Recall@1': 0.041903265571052846,\n",
              " 'Precision@2': 0.07009833859989201,\n",
              " 'Recall@2': 0.06889460657467425,\n",
              " 'Precision@3': 0.06274728484558803,\n",
              " 'Recall@3': 0.0909325424998226,\n",
              " 'Precision@4': 0.05661771865069881,\n",
              " 'Recall@4': 0.10770747996504039,\n",
              " 'Precision@5': 0.05144586951326375,\n",
              " 'Recall@5': 0.12158278399921735,\n",
              " 'Precision@6': 0.04677943298193438,\n",
              " 'Recall@6': 0.13127959947830875,\n",
              " 'Precision@7': 0.042932885201665556,\n",
              " 'Recall@7': 0.1391165443964717,\n",
              " 'Precision@8': 0.03993180027793267,\n",
              " 'Recall@8': 0.1468865581592649,\n",
              " 'Precision@9': 0.03742551335424221,\n",
              " 'Recall@9': 0.15404583499303923,\n",
              " 'Precision@10': 0.03532488913672695,\n",
              " 'Recall@10': 0.16049615096371342,\n",
              " 'MAP@1': 0.041903265571052846,\n",
              " 'MAP@2': 0.056108593499169565,\n",
              " 'MAP@3': 0.06410838873920938,\n",
              " 'MAP@4': 0.06879153744216499,\n",
              " 'MAP@5': 0.07200293631355272,\n",
              " 'MAP@6': 0.07390842037778568,\n",
              " 'MAP@7': 0.07524375587137153,\n",
              " 'MAP@8': 0.0764146132949252,\n",
              " 'MAP@9': 0.07739016888691584,\n",
              " 'MAP@10': 0.07819521216067356}"
            ]
          },
          "metadata": {},
          "execution_count": 12
        }
      ]
    },
    {
      "cell_type": "markdown",
      "source": [
        "#Перебор параметров с помощью Optuna"
      ],
      "metadata": {
        "id": "ravMBlyRX64C"
      }
    },
    {
      "cell_type": "code",
      "source": [
        "import optuna\n",
        "def objective(trial):\n",
        "    n_factors = trial.suggest_categorical('n_factors', [16, 32, 64])\n",
        "    learning_rate = trial.suggest_float('learning_rate', 0.01, 0.1, log=True)\n",
        "    user_alpha = trial.suggest_float('user_alpha', 1e-10, 1e-2, log=True)\n",
        "    item_alpha = trial.suggest_float('item_alpha', 1e-10, 1e-2, log=True)\n",
        "    loss = trial.suggest_categorical('loss', ['logistic', 'bpr', 'warp'])\n",
        "    epochs = trial.suggest_int('epochs', 1, 5)\n",
        "\n",
        "    model = LightFMWrapperModel(\n",
        "        LightFM(\n",
        "            no_components=n_factors,\n",
        "            loss=loss,\n",
        "            learning_rate=learning_rate,\n",
        "            user_alpha=user_alpha,\n",
        "            item_alpha=item_alpha,\n",
        "            random_state=RANDOM_STATE\n",
        "        ),\n",
        "        epochs=epochs,\n",
        "        num_threads=8\n",
        "    )\n",
        "\n",
        "    dataset = Dataset.construct(\n",
        "        interactions_df=train\n",
        "    )\n",
        "    model.fit(dataset)\n",
        "\n",
        "    TEST_USERS = test['user_id'].unique()\n",
        "    recos = model.recommend(\n",
        "        users=TEST_USERS,\n",
        "        dataset=dataset,\n",
        "        k=K_RECOS,\n",
        "        filter_viewed=True,\n",
        "    )\n",
        "\n",
        "    metric_values = calc_metrics(metrics, recos, test, train)\n",
        "    print(metric_values)\n",
        "    return metric_values['MAP@10']\n",
        "\n",
        "study = optuna.create_study(direction='maximize')\n",
        "study.optimize(objective, n_trials=5)\n",
        "\n",
        "print(\"Number of finished trials: \", len(study.trials))\n",
        "print(\"Best trial:\")\n",
        "trial = study.best_trial\n",
        "\n",
        "print(f\"Value: {trial.value}\")\n",
        "print(\"Params: \")\n",
        "for key, value in trial.params.items():\n",
        "   print(f\"{key}: {value}\")"
      ],
      "metadata": {
        "id": "ayUdigPtMt-K"
      },
      "execution_count": null,
      "outputs": []
    },
    {
      "cell_type": "code",
      "source": [
        "model = LightFMWrapperModel(\n",
        "            LightFM(\n",
        "                no_components=64,\n",
        "                learning_rate=0.018752552061051517,\n",
        "                user_alpha=1.7865068939394515e-06,\n",
        "                item_alpha=1.930834633424772e-07,\n",
        "                loss='warp',\n",
        "                random_state=RANDOM_STATE,\n",
        "            ),\n",
        "            epochs=2,\n",
        "            num_threads=NUM_THREADS,\n",
        "        )\n",
        "\n",
        "model.fit(dataset)\n",
        "\n",
        "recs = model.recommend(\n",
        "    users=test['user_id'].unique(),\n",
        "    dataset=dataset,\n",
        "    k=K_RECOS,\n",
        "    filter_viewed=True\n",
        ")\n"
      ],
      "metadata": {
        "id": "ytKy8xVKlWgZ"
      },
      "execution_count": 13,
      "outputs": []
    },
    {
      "cell_type": "code",
      "source": [
        "metric_values = calc_metrics(metrics, recs, test, train)\n",
        "metric_values"
      ],
      "metadata": {
        "colab": {
          "base_uri": "https://localhost:8080/"
        },
        "id": "qhTPug5Mqhht",
        "outputId": "25cd848a-a7a7-4b96-96d3-04353a07d78e"
      },
      "execution_count": 14,
      "outputs": [
        {
          "output_type": "execute_result",
          "data": {
            "text/plain": [
              "{'Precision@1': 0.08376926277029838,\n",
              " 'Recall@1': 0.04237956846421405,\n",
              " 'Precision@2': 0.06979296671003833,\n",
              " 'Recall@2': 0.06870873494728935,\n",
              " 'Precision@3': 0.06268827578474674,\n",
              " 'Recall@3': 0.09105295456889458,\n",
              " 'Precision@4': 0.05773298990059924,\n",
              " 'Recall@4': 0.11091180777068202,\n",
              " 'Precision@5': 0.0519503969834568,\n",
              " 'Recall@5': 0.1232852843701501,\n",
              " 'Precision@6': 0.047401978573810004,\n",
              " 'Recall@6': 0.1337477651091506,\n",
              " 'Precision@7': 0.043388097956726955,\n",
              " 'Recall@7': 0.14164521776516464,\n",
              " 'Precision@8': 0.04011878523947352,\n",
              " 'Recall@8': 0.1487114884739727,\n",
              " 'Precision@9': 0.03767826883151241,\n",
              " 'Recall@9': 0.15642200767199363,\n",
              " 'Precision@10': 0.03560370694920205,\n",
              " 'Recall@10': 0.16360219229183995,\n",
              " 'MAP@1': 0.04237956846421405,\n",
              " 'MAP@2': 0.05622549817610193,\n",
              " 'MAP@3': 0.06431177017261644,\n",
              " 'MAP@4': 0.06981100908712562,\n",
              " 'MAP@5': 0.07269175664934822,\n",
              " 'MAP@6': 0.07475395564056701,\n",
              " 'MAP@7': 0.07610896378576285,\n",
              " 'MAP@8': 0.07716481446187483,\n",
              " 'MAP@9': 0.07821258165355395,\n",
              " 'MAP@10': 0.07908012994425022}"
            ]
          },
          "metadata": {},
          "execution_count": 14
        }
      ]
    },
    {
      "cell_type": "markdown",
      "source": [
        " 'angular' метрики Annoy"
      ],
      "metadata": {
        "id": "N8VXmbqeXjpN"
      }
    },
    {
      "cell_type": "code",
      "source": [
        "from annoy import AnnoyIndex\n",
        "\n",
        "def annoy_recs(user_ids: np.array, dataset: Dataset, model: LightFMWrapperModel):\n",
        "    internal_ids = dataset.user_id_map.to_internal.loc[user_ids].values\n",
        "    user_vecs, product_vecs = model.get_vectors(dataset)\n",
        "    normalized_user_vecs = user_vecs / np.linalg.norm(user_vecs, axis=1)[:, np.newaxis]\n",
        "    target_user_vecs = normalized_user_vecs[internal_ids]\n",
        "\n",
        "    # Построение индекса с помощью Annoy для поиска ближайших продуктов\n",
        "    product_annoy_index = AnnoyIndex(product_vecs.shape[1], 'angular')\n",
        "    for idx, vec in enumerate(product_vecs):\n",
        "        product_annoy_index.add_item(idx, vec)\n",
        "    product_annoy_index.build(10)\n",
        "    recommendations = []\n",
        "    for idx, vec in tqdm(enumerate(target_user_vecs), total=len(target_user_vecs)):\n",
        "        nearest_items = product_annoy_index.get_nns_by_vector(vec, k)\n",
        "        recommendations.append({\n",
        "            'internal_user_id': idx,\n",
        "            'recommended_items': nearest_items\n",
        "        })\n",
        "\n",
        "    # Подготовка итоговой таблицы\n",
        "    user_mapping = dataset.user_id_map.to_external\\\n",
        "        .reset_index()\\\n",
        "        .rename(columns={'index': 'internal_user_id', 0: 'user_id'})\n",
        "\n",
        "    recs_df = pd.DataFrame(recommendations)\n",
        "    recs_df = recs_df.explode('recommended_items').reset_index(drop=True)\n",
        "    final_df = recs_df.merge(user_mapping, on='internal_user_id')[['user_id', 'recommended_items']]\n",
        "\n",
        "    final_df['position'] = final_df.groupby('user_id').cumcount() + 1\n",
        "    return final_df\n",
        "ann_recs = annoy_recs(train['user_id'].unique(), dataset, model)\n",
        "\n",
        "calc_metrics(metrics, ann_recs, test, train)"
      ],
      "metadata": {
        "colab": {
          "base_uri": "https://localhost:8080/"
        },
        "id": "0X-H78AEKgVz",
        "outputId": "14a5e74c-a407-4e3e-e63c-02f3d9db2aa4"
      },
      "execution_count": 27,
      "outputs": [
        {
          "output_type": "stream",
          "name": "stderr",
          "text": [
            "100%|██████████| 756562/756562 [00:22<00:00, 34066.92it/s]\n"
          ]
        },
        {
          "output_type": "execute_result",
          "data": {
            "text/plain": [
              "{'Precision@1': 5.3790336028229166e-05,\n",
              " 'Recall@1': 1.2020328058702782e-05,\n",
              " 'Precision@2': 0.00010758067205645833,\n",
              " 'Recall@2': 7.144207697374152e-05,\n",
              " 'Precision@3': 0.00016316401928562844,\n",
              " 'Recall@3': 0.00016674534691950578,\n",
              " 'Precision@4': 0.00019095569290021356,\n",
              " 'Recall@4': 0.00027865289374707434,\n",
              " 'Precision@5': 0.0002366774785242083,\n",
              " 'Recall@5': 0.000449224409444676,\n",
              " 'Precision@6': 0.00026715866894020486,\n",
              " 'Recall@6': 0.0006276300538897916,\n",
              " 'Precision@7': 0.00030122588175808323,\n",
              " 'Recall@7': 0.0008102078589800416,\n",
              " 'Precision@8': 0.0003550162177863125,\n",
              " 'Recall@8': 0.0011575373696815607,\n",
              " 'Precision@9': 0.00040940422421485527,\n",
              " 'Recall@9': 0.001482901749137433,\n",
              " 'Precision@10': 0.0003684638017933699,\n",
              " 'Recall@10': 0.001482901749137433,\n",
              " 'MAP@1': 1.2020328058702782e-05,\n",
              " 'MAP@2': 4.1731202516222146e-05,\n",
              " 'MAP@3': 7.349895916481025e-05,\n",
              " 'MAP@4': 0.00010155494930703799,\n",
              " 'MAP@5': 0.000135702871406576,\n",
              " 'MAP@6': 0.0001654371454807619,\n",
              " 'MAP@7': 0.00019157879932445507,\n",
              " 'MAP@8': 0.00023499498816214486,\n",
              " 'MAP@9': 0.000271146585879464,\n",
              " 'MAP@10': 0.000271146585879464}"
            ]
          },
          "metadata": {},
          "execution_count": 27
        }
      ]
    },
    {
      "cell_type": "markdown",
      "source": [
        "Метрика значительно ухудшилась"
      ],
      "metadata": {
        "id": "6H-havh4Xw8Z"
      }
    },
    {
      "cell_type": "markdown",
      "source": [
        "Изменяем построение индекса на dot"
      ],
      "metadata": {
        "id": "hWvqqOXHXe5a"
      }
    },
    {
      "cell_type": "code",
      "source": [
        "from annoy import AnnoyIndex\n",
        "\n",
        "def annoy_recs(user_ids: np.array, dataset: Dataset, model: LightFMWrapperModel):\n",
        "    internal_ids = dataset.user_id_map.to_internal.loc[user_ids].values\n",
        "    user_vecs, product_vecs = model.get_vectors(dataset)\n",
        "    normalized_user_vecs = user_vecs / np.linalg.norm(user_vecs, axis=1)[:, np.newaxis]\n",
        "    target_user_vecs = normalized_user_vecs[internal_ids]\n",
        "\n",
        "    # Построение индекса с помощью Annoy для поиска ближайших продуктов\n",
        "    product_annoy_index = AnnoyIndex(product_vecs.shape[1], 'dot')\n",
        "    for idx, vec in enumerate(product_vecs):\n",
        "        product_annoy_index.add_item(idx, vec)\n",
        "    product_annoy_index.build(10)\n",
        "    recommendations = []\n",
        "    for idx, vec in tqdm(enumerate(target_user_vecs), total=len(target_user_vecs)):\n",
        "        nearest_items = product_annoy_index.get_nns_by_vector(vec, k)\n",
        "        recommendations.append({\n",
        "            'internal_user_id': idx,\n",
        "            'recommended_items': nearest_items\n",
        "        })\n",
        "\n",
        "    # Подготовка итоговой таблицы\n",
        "    user_mapping = dataset.user_id_map.to_external\\\n",
        "        .reset_index()\\\n",
        "        .rename(columns={'index': 'internal_user_id', 0: 'user_id'})\n",
        "\n",
        "    recs_df = pd.DataFrame(recommendations)\n",
        "    recs_df = recs_df.explode('recommended_items').reset_index(drop=True)\n",
        "    final_df = recs_df.merge(user_mapping, on='internal_user_id')[['user_id', 'recommended_items']]\n",
        "\n",
        "    final_df['position'] = final_df.groupby('user_id').cumcount() + 1\n",
        "    return final_df\n",
        "ann_recs = annoy_recs(train['user_id'].unique(), dataset, model)\n",
        "\n",
        "calc_metrics(metrics, ann_recs, test, train)"
      ],
      "metadata": {
        "colab": {
          "base_uri": "https://localhost:8080/"
        },
        "id": "N9-W3tNCWYjd",
        "outputId": "8f702528-b668-4f8b-aa01-1271ed9b7a88"
      },
      "execution_count": 28,
      "outputs": [
        {
          "output_type": "stream",
          "name": "stderr",
          "text": [
            "100%|██████████| 756562/756562 [00:25<00:00, 29778.32it/s]\n"
          ]
        },
        {
          "output_type": "execute_result",
          "data": {
            "text/plain": [
              "{'Precision@1': 5.3790336028229166e-05,\n",
              " 'Recall@1': 1.2020328058702782e-05,\n",
              " 'Precision@2': 0.00010758067205645833,\n",
              " 'Recall@2': 7.144207697374152e-05,\n",
              " 'Precision@3': 0.00016316401928562844,\n",
              " 'Recall@3': 0.00016674534691950578,\n",
              " 'Precision@4': 0.00019095569290021356,\n",
              " 'Recall@4': 0.00027865289374707434,\n",
              " 'Precision@5': 0.0002366774785242083,\n",
              " 'Recall@5': 0.000449224409444676,\n",
              " 'Precision@6': 0.00026715866894020486,\n",
              " 'Recall@6': 0.0006276300538897916,\n",
              " 'Precision@7': 0.00030122588175808323,\n",
              " 'Recall@7': 0.0008102078589800416,\n",
              " 'Precision@8': 0.0003550162177863125,\n",
              " 'Recall@8': 0.0011575373696815607,\n",
              " 'Precision@9': 0.00040940422421485527,\n",
              " 'Recall@9': 0.001482901749137433,\n",
              " 'Precision@10': 0.0003684638017933699,\n",
              " 'Recall@10': 0.001482901749137433,\n",
              " 'MAP@1': 1.2020328058702782e-05,\n",
              " 'MAP@2': 4.1731202516222146e-05,\n",
              " 'MAP@3': 7.349895916481025e-05,\n",
              " 'MAP@4': 0.00010155494930703799,\n",
              " 'MAP@5': 0.000135702871406576,\n",
              " 'MAP@6': 0.0001654371454807619,\n",
              " 'MAP@7': 0.00019157879932445507,\n",
              " 'MAP@8': 0.00023499498816214486,\n",
              " 'MAP@9': 0.000271146585879464,\n",
              " 'MAP@10': 0.000271146585879464}"
            ]
          },
          "metadata": {},
          "execution_count": 28
        }
      ]
    },
    {
      "cell_type": "markdown",
      "source": [
        "Если изменять тип построение индекса результат не меняется"
      ],
      "metadata": {
        "id": "dOEvGgPfXqpD"
      }
    },
    {
      "cell_type": "markdown",
      "source": [
        "Делаем предсказания по всем пользователям"
      ],
      "metadata": {
        "id": "kLvgXAamYAu7"
      }
    },
    {
      "cell_type": "code",
      "source": [
        "model = LightFMWrapperModel(\n",
        "            LightFM(\n",
        "                no_components=64,\n",
        "                learning_rate=0.018752552061051517,\n",
        "                user_alpha=1.7865068939394515e-06,\n",
        "                item_alpha=1.930834633424772e-07,\n",
        "                loss='warp',\n",
        "                random_state=RANDOM_STATE,\n",
        "            ),\n",
        "            epochs=2,\n",
        "            num_threads=NUM_THREADS,\n",
        "        )\n",
        "\n",
        "model.fit(Dataset.construct(interactions))\n",
        "\n",
        "final_recs = model.recommend(\n",
        "    users=interactions['user_id'].unique(),\n",
        "    dataset=Dataset.construct(interactions),\n",
        "    k=K_RECOS,\n",
        "    filter_viewed=True\n",
        ")"
      ],
      "metadata": {
        "id": "xjIRz8PNuxxU"
      },
      "execution_count": null,
      "outputs": []
    },
    {
      "cell_type": "code",
      "source": [
        "users_recs = final_recs.groupby('user_id').agg({'item_id': list})\n",
        "users_recs.to_json('lightfm_recs.json')"
      ],
      "metadata": {
        "id": "XNMPy7D6u1nw"
      },
      "execution_count": 20,
      "outputs": []
    },
    {
      "cell_type": "code",
      "source": [],
      "metadata": {
        "id": "nh9dIAwUM5do"
      },
      "execution_count": null,
      "outputs": []
    }
  ]
}